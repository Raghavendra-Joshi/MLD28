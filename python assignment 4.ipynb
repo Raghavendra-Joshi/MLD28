{
 "cells": [
  {
   "cell_type": "markdown",
   "metadata": {},
   "source": [
    "# Python Assignment 4"
   ]
  },
  {
   "cell_type": "markdown",
   "metadata": {},
   "source": [
    "**1.1 Write a Python Program(with class concepts) to find the area of the triangle using the below formula.** \n",
    " \n",
    "**area = (s*(s-a)*(s-b)*(s-c)) ** 0.5**\n",
    " \n",
    "**Function to take the length of the sides of triangle from user should be defined in the parent class and function to calculate the area should be defined in subclass.**"
   ]
  },
  {
   "cell_type": "code",
   "execution_count": 13,
   "metadata": {},
   "outputs": [
    {
     "name": "stdout",
     "output_type": "stream",
     "text": [
      "Enter Side A of Trinagle: \n"
     ]
    },
    {
     "name": "stdin",
     "output_type": "stream",
     "text": [
      " 4\n"
     ]
    },
    {
     "name": "stdout",
     "output_type": "stream",
     "text": [
      "Enter Side B of Trinagle: \n"
     ]
    },
    {
     "name": "stdin",
     "output_type": "stream",
     "text": [
      " 5\n"
     ]
    },
    {
     "name": "stdout",
     "output_type": "stream",
     "text": [
      "Enter Side C of Trinagle: \n"
     ]
    },
    {
     "name": "stdin",
     "output_type": "stream",
     "text": [
      " 6\n"
     ]
    },
    {
     "name": "stdout",
     "output_type": "stream",
     "text": [
      "Area of Triangle is:  121.86\n"
     ]
    }
   ],
   "source": [
    "# Define the Parenet class in which we get the different sides of triangle\n",
    "# The class will store user entered sides of triangle and have method to return sides\n",
    "class getSides:\n",
    "    # Constructor take the sides of traingel from user using input\n",
    "    def __init__(self):\n",
    "      print (\"Enter Side A of Trinagle: \")\n",
    "      self.side_a = input()\n",
    "      print (\"Enter Side B of Trinagle: \")\n",
    "      self.side_b = input()\n",
    "      print (\"Enter Side C of Trinagle: \")\n",
    "      self.side_c = input()\n",
    "    \n",
    "    # Method to return sides\n",
    "    def returnSides(self):\n",
    "        return ( self.side_a, self.side_b, self.side_c)\n",
    "    \n",
    "# Subclass which is instantiate parent class\n",
    "# has method to compute the area of traingle\n",
    "class getArea(getSides):\n",
    "    def __init__(self):\n",
    "        getSides.__init__(self)\n",
    "        self.a, self.b, self.c = getSides.returnSides(self)\n",
    "        \n",
    "    def computeArea(self):\n",
    "        self.perimeter = int(self.a) + int(self.b) + int(self.c)\n",
    "        self.area = \\\n",
    "        (self.perimeter*(self.perimeter-int(self.a))*(self.perimeter-int(self.b))*(self.perimeter-int(self.c)))**0.5\n",
    "        print (\"Area of Triangle is: \", round(self.area,2))\n",
    "        \n",
    "# Main method\n",
    "sides = getArea()\n",
    "sides.computeArea()"
   ]
  },
  {
   "cell_type": "markdown",
   "metadata": {},
   "source": [
    "**1.2 Write a function filter_long_words() that takes a list of words and an integer n and returns the list of words that are longer than n.** "
   ]
  },
  {
   "cell_type": "code",
   "execution_count": 27,
   "metadata": {},
   "outputs": [
    {
     "name": "stdout",
     "output_type": "stream",
     "text": [
      "Words which are longer than length 2 are:  ['abc', 'def', 'xyz', 'abcde']\n"
     ]
    }
   ],
   "source": [
    "# Function filter_long_words which takes two arguments sequence and n\n",
    "# it checks all itmes in the sequence and if length of words is > n then store those words and return\n",
    "def filter_long_words(sequence, n):\n",
    "    returnList = []\n",
    "    notStrItems = 0\n",
    "    # check if the list provided contains str items or not\n",
    "    for item in sequence :\n",
    "        # Check if the item is of string type\n",
    "        if not( type(item) is str ):\n",
    "            notStrItems += 1\n",
    "    if ( notStrItems == 0):        \n",
    "        for item in sequence:\n",
    "            if (len(item) > n):\n",
    "                returnList.append(item)\n",
    "        return returnList\n",
    "    else:\n",
    "        print (\"Provided list contains non string items\")\n",
    "\n",
    "# Call method\n",
    "lst = [\"abc\", \"a\", \"def\", \"xyz\", \"abcde\"]\n",
    "print (\"Words which are longer than length 2 are: \", filter_long_words(lst, 2))"
   ]
  },
  {
   "cell_type": "markdown",
   "metadata": {},
   "source": [
    "**2.1 Write a Python program using function concept that maps list of words into a list of integers representing the lengths of the corresponding words.** "
   ]
  },
  {
   "cell_type": "code",
   "execution_count": 32,
   "metadata": {},
   "outputs": [
    {
     "name": "stdout",
     "output_type": "stream",
     "text": [
      "List containing the length of each item for the given list:  [3, 1, 3, 3, 5]\n"
     ]
    }
   ],
   "source": [
    "# Write a lambda function which caluclates the length of item in list and map function returns the list\n",
    "lst = [\"abc\", \"a\", \"def\", \"xyz\", \"abcde\"]\n",
    "length_list = list(map(lambda x: len(x), lst))\n",
    "print (\"List containing the length of each item for the given list: \", length_list)"
   ]
  },
  {
   "cell_type": "markdown",
   "metadata": {},
   "source": [
    "**2.2 Write a Python function which takes a character (i.e. a string of length 1) and returns True if it is a vowel, False otherwise.** "
   ]
  },
  {
   "cell_type": "code",
   "execution_count": 57,
   "metadata": {},
   "outputs": [
    {
     "name": "stdout",
     "output_type": "stream",
     "text": [
      "Given character t is vowel? False\n"
     ]
    }
   ],
   "source": [
    "# Function to check if the give character is vowel or not\n",
    "def checkVowel(ch):\n",
    "    vowelList = ['a', 'e', 'i', 'o', 'u']\n",
    "    # check if input is character or not\n",
    "    if not (type(ch) is str):\n",
    "        return (\"Given input %s is not a character\" % ch)\n",
    "    \n",
    "    # check if the given character is part of vowelList or not\n",
    "    if (ch in vowelList):\n",
    "        return True\n",
    "    else:\n",
    "        return False\n",
    "    \n",
    "# main method\n",
    "input='t'\n",
    "print (\"Given character %s is vowel?\" % input, checkVowel(input))"
   ]
  },
  {
   "cell_type": "code",
   "execution_count": null,
   "metadata": {},
   "outputs": [],
   "source": []
  }
 ],
 "metadata": {
  "kernelspec": {
   "display_name": "Python 3",
   "language": "python",
   "name": "python3"
  },
  "language_info": {
   "codemirror_mode": {
    "name": "ipython",
    "version": 3
   },
   "file_extension": ".py",
   "mimetype": "text/x-python",
   "name": "python",
   "nbconvert_exporter": "python",
   "pygments_lexer": "ipython3",
   "version": "3.7.0"
  }
 },
 "nbformat": 4,
 "nbformat_minor": 4
}

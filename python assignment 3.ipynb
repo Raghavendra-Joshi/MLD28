{
 "cells": [
  {
   "cell_type": "markdown",
   "metadata": {},
   "source": [
    "**1.1 Write a Python Program to implement your own myreduce() function which works exactly like Python's built-in function reduce()** "
   ]
  },
  {
   "cell_type": "code",
   "execution_count": 154,
   "metadata": {},
   "outputs": [],
   "source": [
    "# Some sample functions to test the newly written function\n",
    "def findMax(a,b):\n",
    "    if ( a > b ):\n",
    "        return a\n",
    "    else:\n",
    "        return b\n",
    "\n",
    "def findSum(a,b):\n",
    "    return a+b\n"
   ]
  },
  {
   "cell_type": "code",
   "execution_count": 155,
   "metadata": {},
   "outputs": [],
   "source": [
    "# This function is the implementation of Python's built in funcion reduce\n",
    "# takes 2 arguments \n",
    "# function: This is the user defined function which will be called\n",
    "# sequence: This is the iterable object which is used to evaluate the function\n",
    "# return would be a value which will satisfy the function of reduction\n",
    "def my_reduce(function, sequence):\n",
    "    # first check if the sequence is iterable or not\n",
    "    try:\n",
    "        0 in sequence\n",
    "    except TypeError: \n",
    "        raise Exception('Sequence provided is not an iterable one')\n",
    "    else:\n",
    "        # Logic of reduce function will be implemented\n",
    "        # loop through the sequence one by one and call for function\n",
    "        returnValue = sequence[0]\n",
    "        for i in range(1,len(sequence)):\n",
    "            returnValue = function(returnValue, sequence[i])\n",
    "        return returnValue"
   ]
  },
  {
   "cell_type": "code",
   "execution_count": 157,
   "metadata": {},
   "outputs": [
    {
     "name": "stdout",
     "output_type": "stream",
     "text": [
      "The sum of the list elements is : 37\n",
      "The maximum element of the list is : 11\n",
      "The sum of the list elements is : 37\n",
      "The maximum element of the list is : 11\n"
     ]
    }
   ],
   "source": [
    "# initializing list \n",
    "lis = [ 1 , 3, 5, 6, 2, 9,11] \n",
    "# Using lambda functions\n",
    "print (\"The sum of the list elements is : \",end=\"\") \n",
    "print (my_reduce(lambda a,b : a+b,lis)) \n",
    "print (\"The maximum element of the list is : \",end=\"\") \n",
    "print (my_reduce(lambda a,b : a if a > b else b,lis)) \n",
    "\n",
    "# Using user defined functions\n",
    "print (\"The sum of the list elements is : \",end=\"\") \n",
    "print (my_reduce( findSum,lis)) \n",
    "print (\"The maximum element of the list is : \",end=\"\") \n",
    "print (my_reduce( findMax,lis)) \n"
   ]
  },
  {
   "cell_type": "markdown",
   "metadata": {},
   "source": [
    "**1.2 Write a Python program to implement your own myfilter() function which works exactly like Python's built-in function filter()**"
   ]
  },
  {
   "cell_type": "code",
   "execution_count": 158,
   "metadata": {},
   "outputs": [],
   "source": [
    "# Test function to test the my_filter \n",
    "def fun(variable): \n",
    "    letters = ['a', 'e', 'i', 'o', 'u'] \n",
    "    if (variable in letters): \n",
    "        return True\n",
    "    else: \n",
    "        return False\n"
   ]
  },
  {
   "cell_type": "code",
   "execution_count": 159,
   "metadata": {},
   "outputs": [],
   "source": [
    "# This function is the implementation of Python's built in funcion filter\n",
    "# takes 2 arguments \n",
    "# function: This is the user defined function which will be called\n",
    "# sequence: This is the iterable object which is used to evaluate the function\n",
    "# return would be a list which will satisfy the function and contains only for which we got true from function\n",
    "def my_filter(function, sequence):\n",
    "    # first check if the sequence is iterable or not\n",
    "    try:\n",
    "        0 in sequence\n",
    "    except TypeError: \n",
    "        raise Exception('Sequence provided is not an iterable one')\n",
    "    else:\n",
    "        # Logic of filter function will be implemented\n",
    "        # loop through the sequence and call for function\n",
    "        returnList = []\n",
    "        for item in sequence:\n",
    "            if (function(item)):\n",
    "                returnList.append(item)\n",
    "        return returnList"
   ]
  },
  {
   "cell_type": "code",
   "execution_count": 160,
   "metadata": {},
   "outputs": [
    {
     "name": "stdout",
     "output_type": "stream",
     "text": [
      "The filtered letters are:\n",
      "e\n",
      "e\n",
      "a\n"
     ]
    }
   ],
   "source": [
    "# sequence \n",
    "sequence = ['g', 'e', 'e', 'j', 'k', 's', 'p', 'r','a']\n",
    "print('The filtered letters are:') \n",
    "for s in filtered: \n",
    "    print(s) "
   ]
  },
  {
   "cell_type": "markdown",
   "metadata": {},
   "source": [
    "**2. Implement List comprehensions to produce the following lists.**\n",
    "\n",
    "**Write List comprehensions to produce the following Lists** \n",
    " \n",
    "**['x', 'xx', 'xxx', 'xxxx', 'y', 'yy', 'yyy', 'yyyy', 'z', 'zz', 'zzz', 'zzzz']**\n",
    "\n",
    "**['x', 'y', 'z', 'xx', 'yy', 'zz', 'xxx', 'yyy', 'zzz', 'xxxx', 'yyyy', 'zzzz']** \n",
    "\n",
    "**[[2], [3], [4], [3], [4], [5], [4], [5], [6]]**\n",
    "\n",
    "**[[2, 3, 4, 5], [3, 4, 5, 6],[4, 5, 6, 7], [5, 6, 7, 8]]** \n",
    "\n",
    "**[(1, 1), (2, 1), (3, 1), (1, 2), (2, 2), (3, 2), (1, 3), (2, 3), (3, 3)]**"
   ]
  },
  {
   "cell_type": "code",
   "execution_count": 161,
   "metadata": {},
   "outputs": [
    {
     "name": "stdout",
     "output_type": "stream",
     "text": [
      "['x', 'xx', 'xxx', 'xxxx', 'y', 'yy', 'yyy', 'yyyy', 'z', 'zz', 'zzz', 'zzzz']\n"
     ]
    }
   ],
   "source": [
    "lst=['x','y','z']\n",
    "modified_lst1 = [ letter*(i+1) for letter in lst for i in range(4) ]\n",
    "print (modified_lst1)"
   ]
  },
  {
   "cell_type": "code",
   "execution_count": 163,
   "metadata": {},
   "outputs": [
    {
     "name": "stdout",
     "output_type": "stream",
     "text": [
      "['x', 'y', 'z', 'xx', 'yy', 'zz', 'xxx', 'yyy', 'zzz', 'xxxx', 'yyyy', 'zzzz']\n"
     ]
    }
   ],
   "source": [
    "modified_lst2 = [ letter*(i+1) for i in range(4) for letter in lst]\n",
    "print (modified_lst2)"
   ]
  },
  {
   "cell_type": "code",
   "execution_count": 164,
   "metadata": {},
   "outputs": [
    {
     "name": "stdout",
     "output_type": "stream",
     "text": [
      "[[2], [3], [4], [3], [4], [5], [4], [5], [6]]\n"
     ]
    }
   ],
   "source": [
    "modified_list3 = [[i+j+2] for i in range(3) for j in range(3)]\n",
    "print (modified_list3)"
   ]
  },
  {
   "cell_type": "code",
   "execution_count": 166,
   "metadata": {},
   "outputs": [
    {
     "name": "stdout",
     "output_type": "stream",
     "text": [
      "[[2, 3, 4, 5], [3, 4, 5, 6], [4, 5, 6, 7], [5, 6, 7, 8]]\n"
     ]
    }
   ],
   "source": [
    "modified_list4 = [[i+ (j+2) for j in range(4)] for i in range(4)]\n",
    "print(modified_list4)"
   ]
  },
  {
   "cell_type": "code",
   "execution_count": 167,
   "metadata": {},
   "outputs": [
    {
     "name": "stdout",
     "output_type": "stream",
     "text": [
      "[(1, 1), (2, 1), (3, 1), (1, 2), (2, 2), (3, 2), (1, 3), (2, 3), (3, 3)]\n"
     ]
    }
   ],
   "source": [
    "modified_list5= [(i+1,j+1) for j in range(3) for i in range(3)]\n",
    "print(modified_list5)"
   ]
  },
  {
   "cell_type": "code",
   "execution_count": null,
   "metadata": {},
   "outputs": [],
   "source": []
  }
 ],
 "metadata": {
  "kernelspec": {
   "display_name": "Python 3",
   "language": "python",
   "name": "python3"
  },
  "language_info": {
   "codemirror_mode": {
    "name": "ipython",
    "version": 3
   },
   "file_extension": ".py",
   "mimetype": "text/x-python",
   "name": "python",
   "nbconvert_exporter": "python",
   "pygments_lexer": "ipython3",
   "version": "3.7.0"
  }
 },
 "nbformat": 4,
 "nbformat_minor": 4
}
